{
 "cells": [
  {
   "cell_type": "markdown",
   "metadata": {},
   "source": [
    "### Dog classifier on the web!\n",
    "\n",
    "#### I'm building a simple web app to have rudimentary deployment of the dog classifier I build and trained.\n",
    "\n",
    "First I import the trained model"
   ]
  },
  {
   "cell_type": "code",
   "execution_count": 34,
   "metadata": {},
   "outputs": [
    {
     "data": {
      "text/plain": [
       "<All keys matched successfully>"
      ]
     },
     "execution_count": 34,
     "metadata": {},
     "output_type": "execute_result"
    }
   ],
   "source": [
    "import torch\n",
    "import torchvision.models as models\n",
    "import torch.nn as nn\n",
    "    \n",
    "use_cuda = torch.cuda.is_available()\n",
    "\n",
    "model_transfer = models.vgg16(pretrained=True)\n",
    "\n",
    "for param in model_transfer.features.parameters():\n",
    "    param.requires_grad = False\n",
    "model_transfer.classifier[6] = nn.Linear(4096,133)\n",
    "    \n",
    "if use_cuda:\n",
    "    model_transfer = model_transfer.cuda()\n",
    "device = \"gpu\" if use_cuda else \"cpu\"\n",
    "    \n",
    "model_transfer.load_state_dict(torch.load('model_transfer2.pt', map_location= device))"
   ]
  },
  {
   "cell_type": "code",
   "execution_count": 41,
   "metadata": {},
   "outputs": [],
   "source": [
    "import dog_app  "
   ]
  }
 ],
 "metadata": {
  "kernelspec": {
   "display_name": "Python [conda env:deep-learning] *",
   "language": "python",
   "name": "conda-env-deep-learning-py"
  },
  "language_info": {
   "codemirror_mode": {
    "name": "ipython",
    "version": 3
   },
   "file_extension": ".py",
   "mimetype": "text/x-python",
   "name": "python",
   "nbconvert_exporter": "python",
   "pygments_lexer": "ipython3",
   "version": "3.7.7"
  }
 },
 "nbformat": 4,
 "nbformat_minor": 4
}
